{
 "cells": [
  {
   "cell_type": "markdown",
   "metadata": {},
   "source": [
    "# Python 3 Introductory Workshop"
   ]
  },
  {
   "cell_type": "markdown",
   "metadata": {},
   "source": [
    "### Topics\n",
    "    - Why Python?\n",
    "    - Variables\n",
    "    - Operators\n",
    "    - Collections\n",
    "    - Conditionals\n",
    "    - Loops"
   ]
  },
  {
   "cell_type": "markdown",
   "metadata": {},
   "source": [
    "### Why Python?\n",
    "Python is known for being one of the most versitile and easy to use languages\n",
    "    \n",
    "    - Simple syntax makes it easy to learn\n",
    "    - Easy and intuitive to read, even with minimal programming knowledge\n",
    "    - Great for prototyping and quickly writing working code\n",
    "    - Portable across systems; As long as Python is installed it will run on any operting system\n",
    "    \n",
    "Popular uses for Python include\n",
    "\n",
    "    - Mathematics and big data\n",
    "        Packagages used for reading in, manipulating, and analyzing data quickly(Numpy, Pandas)\n",
    "    - Simple Scripting\n",
    "        Writing a functional program that performs an individual task (rasberry pi)\n",
    "    - Server side web development (django, flask)\n",
    "        Server side scripting means hosting a web server that can handle requests\n",
    "    - Software development\n",
    "        Python is robust enough to handle creating almost anything you want to do"
   ]
  },
  {
   "cell_type": "markdown",
   "metadata": {},
   "source": [
    "### Variables"
   ]
  },
  {
   "cell_type": "markdown",
   "metadata": {},
   "source": [
    "We need to be able to remember information for later, to do this we use variables.\n",
    "we can assign a variable a value with =\n",
    "\n",
    "Here, we're going to look at 4 variable types:\n",
    "    \n",
    "    -integers\n",
    "    -floats\n",
    "    -strings\n",
    "    -booleans\n",
    "\n",
    "Python is a \"dynamically typed language\"\n",
    "\n",
    "This means that we do not need to declare variable types, or tell the computer what type they are, we just trust Python to keep track for us."
   ]
  },
  {
   "cell_type": "markdown",
   "metadata": {},
   "source": [
    "##### Integers\n",
    "\n",
    "integers; positive or negative numbers WITHOUT decimal places - the same as in math"
   ]
  },
  {
   "cell_type": "code",
   "execution_count": 5,
   "metadata": {},
   "outputs": [
    {
     "name": "stdout",
     "output_type": "stream",
     "text": [
      "6\n"
     ]
    }
   ],
   "source": [
    "a_int = 6\n",
    "print(a_int)"
   ]
  },
  {
   "cell_type": "markdown",
   "metadata": {},
   "source": [
    "#### Floats\n",
    "floating point numbers; numbers WITH decimal places\n",
    "in actuality, floats are only approximations of numbers, so sometimes (as we'll see later) they can get a little weird\n",
    "If you're interested in more info on why this occurs, go to this link: https://docs.python.org/3/tutorial/floatingpoint.html"
   ]
  },
  {
   "cell_type": "code",
   "execution_count": 6,
   "metadata": {},
   "outputs": [
    {
     "name": "stdout",
     "output_type": "stream",
     "text": [
      "6.6\n"
     ]
    }
   ],
   "source": [
    "a_float = 6.6\n",
    "print(a_float)"
   ]
  },
  {
   "cell_type": "markdown",
   "metadata": {},
   "source": [
    "##### Strings\n",
    "sequence of characters surrounded by \"\" or ''"
   ]
  },
  {
   "cell_type": "code",
   "execution_count": 7,
   "metadata": {},
   "outputs": [],
   "source": [
    "a_string = \"hello\"\n",
    "b_string = \"17\"\n",
    "# Double quoted strings (\"\") can have single quotes ('') in them\n",
    "# Single quoted strings can have double quotes in them\n",
    "c_string = 'This is a pair of of \"double quotes\" in a string.'"
   ]
  },
  {
   "cell_type": "markdown",
   "metadata": {},
   "source": [
    "we can access strings with [ ] with 0 being the first character and -1 being the last.\n",
    "[:] will also give us a range of characters "
   ]
  },
  {
   "cell_type": "code",
   "execution_count": 8,
   "metadata": {},
   "outputs": [
    {
     "name": "stdout",
     "output_type": "stream",
     "text": [
      "h\n",
      "o\n",
      "ell\n"
     ]
    }
   ],
   "source": [
    "print(a_string[0])\n",
    "print(a_string[-1])\n",
    "print(a_string[1:4]) #this will return the 3 characters including character 1 but not character 4 "
   ]
  },
  {
   "cell_type": "markdown",
   "metadata": {},
   "source": [
    "##### Booleans\n",
    "True / False values with the first letter capitalized"
   ]
  },
  {
   "cell_type": "code",
   "execution_count": 9,
   "metadata": {},
   "outputs": [],
   "source": [
    "a_bool = True # any non-zero number as a boolean will be cast to True\n",
    "b_bool = False # 0 will be cast to False"
   ]
  },
  {
   "cell_type": "markdown",
   "metadata": {},
   "source": [
    "If we want to make a variable but have nothing in it, not even the value 0, we use None. This gets helpful in some more advanced programs, but for the basics, just know it exists. \n",
    "It is a useful thing to check when passing variables to different functions to ensure that input is correct. You always want to check that your input is not None and that it is not outside the bounds of what you need it to be for that function to ensure that someone can't break your code. "
   ]
  },
  {
   "cell_type": "code",
   "execution_count": 10,
   "metadata": {},
   "outputs": [],
   "source": [
    "a_var = None"
   ]
  },
  {
   "cell_type": "markdown",
   "metadata": {},
   "source": [
    "If we want to see the value stored in a variable, we can use the built-in print( ) function.\n",
    "Print will show us whatever is inside the ( ) to our console, for Jupyter, the console will appear below our code blocks\n",
    "\n",
    "and if we want to know the type of a variable, we can use the type( ) function"
   ]
  },
  {
   "cell_type": "code",
   "execution_count": 11,
   "metadata": {},
   "outputs": [
    {
     "name": "stdout",
     "output_type": "stream",
     "text": [
      "<class 'int'>\n",
      "<class 'float'>\n",
      "<class 'str'>\n",
      "<class 'bool'>\n",
      "<class 'NoneType'>\n"
     ]
    }
   ],
   "source": [
    "print(type(a_int))\n",
    "print(type(a_float))\n",
    "print(type(a_string))\n",
    "print(type(a_bool))\n",
    "print(type(a_var))"
   ]
  },
  {
   "cell_type": "markdown",
   "metadata": {},
   "source": [
    "You can name a variable almost anything you want with just a few rules\n",
    "\n",
    "    - can't start a variable name with numbers\n",
    "    - can't have a space in a variable name\n",
    "    \n",
    "You should generally follow a few guidelines as well\n",
    "\n",
    "    - start a variable name with a lowercase letter\n",
    "    - keep them descriptive"
   ]
  },
  {
   "cell_type": "markdown",
   "metadata": {},
   "source": [
    "### Operators"
   ]
  },
  {
   "cell_type": "markdown",
   "metadata": {},
   "source": [
    "Operators let us do things with variables and values, we've already seen one: =\n",
    "\n",
    "The basic operators to know are\n",
    "    \n",
    "    assignment: =\n",
    "    addition/concatenation: +\n",
    "    subtraction: -\n",
    "    multiplication: *\n",
    "    floating point division: /\n",
    "    integer division: //\n",
    "    modulo: %\n",
    "    exponentiation: **\n",
    "    comparisons: <, <=, >, >=, !=, ==\n",
    "    Boolean Operations: or, and, not"
   ]
  },
  {
   "cell_type": "markdown",
   "metadata": {},
   "source": [
    "When we use + on two numbers, it works as addition just like in math, we can even use variables or even mix and match"
   ]
  },
  {
   "cell_type": "code",
   "execution_count": 12,
   "metadata": {},
   "outputs": [
    {
     "name": "stdout",
     "output_type": "stream",
     "text": [
      "6\n",
      "12.6\n",
      "9\n"
     ]
    }
   ],
   "source": [
    "print(4 + 2)\n",
    "print(a_int + a_float) # a_int = 6, a_float = 6.6\n",
    "print(3 + a_int) # a_int = 6"
   ]
  },
  {
   "cell_type": "code",
   "execution_count": 13,
   "metadata": {},
   "outputs": [],
   "source": [
    "# Anything that comes after a # on the same line is a comment\n",
    "# Python ignores it, but it lets us humans take notes on what we did"
   ]
  },
  {
   "cell_type": "markdown",
   "metadata": {},
   "source": [
    "When we use + on two strings, it concatenates them, we can use them with variables, strings, or both. + won't add spaces between strings though, so we have to do it manually."
   ]
  },
  {
   "cell_type": "code",
   "execution_count": 14,
   "metadata": {},
   "outputs": [
    {
     "name": "stdout",
     "output_type": "stream",
     "text": [
      "hello17\n",
      "hello 17\n"
     ]
    }
   ],
   "source": [
    "print(a_string + b_string)\n",
    "print(a_string + \" \" + b_string)"
   ]
  },
  {
   "cell_type": "markdown",
   "metadata": {},
   "source": [
    "We can't mix and match strings and numbers though, if we want to, we have to \"cast\" them with Pythons quilt in casting system."
   ]
  },
  {
   "cell_type": "code",
   "execution_count": 15,
   "metadata": {
    "scrolled": true
   },
   "outputs": [
    {
     "name": "stdout",
     "output_type": "stream",
     "text": [
      "4\n",
      "<class 'int'>\n",
      "4.0\n",
      "<class 'float'>\n",
      "4.0\n",
      "<class 'str'>\n"
     ]
    }
   ],
   "source": [
    "value = 4\n",
    "print(value)\n",
    "print(type(value))\n",
    "value = float(value)\n",
    "print(value)\n",
    "print(type(value))\n",
    "value = str(value)\n",
    "print(value)\n",
    "print(type(value))"
   ]
  },
  {
   "cell_type": "markdown",
   "metadata": {},
   "source": [
    "now that value is a string, I can concatenate it with other strings"
   ]
  },
  {
   "cell_type": "code",
   "execution_count": 16,
   "metadata": {},
   "outputs": [
    {
     "name": "stdout",
     "output_type": "stream",
     "text": [
      "hello 4.0 17\n"
     ]
    }
   ],
   "source": [
    "print(a_string + \" \" + value + \" \" + b_string)"
   ]
  },
  {
   "cell_type": "markdown",
   "metadata": {},
   "source": [
    "assignment: =\n",
    "addition/concatenation: +\n",
    "subtraction: -\n",
    "multiplication: *\n",
    "floating point division: /\n",
    "integer division: //\n",
    "modulo: %\n",
    "exponentiation: **\n",
    "comparisons: <, <=, >, >=, !=, ==\n",
    "Boolean Operations: or, and, not\n",
    "    \n",
    "subtraction works the same way as addition, but only works with numerical vaules\n"
   ]
  },
  {
   "cell_type": "code",
   "execution_count": 17,
   "metadata": {},
   "outputs": [
    {
     "name": "stdout",
     "output_type": "stream",
     "text": [
      "6.6\n",
      "0.5999999999999996\n"
     ]
    }
   ],
   "source": [
    "print(a_float) # a_float = 6.6\n",
    "print(a_float - a_int) # a_int = 6\n",
    "# remember when I warned things would get weird?\n",
    "# why this happens is a bit technical\n",
    "# but its such a small amount you can effectivly ignore it"
   ]
  },
  {
   "cell_type": "code",
   "execution_count": 18,
   "metadata": {},
   "outputs": [
    {
     "name": "stdout",
     "output_type": "stream",
     "text": [
      "15\n",
      "hellohellohello\n",
      "16\n"
     ]
    }
   ],
   "source": [
    "print(5 * 3)\n",
    "print(a_string * 3) # a_string = \"hello\"\n",
    "# what would you do to get the string \"hello hello hello\"\n",
    "\n",
    "print(2**4)"
   ]
  },
  {
   "cell_type": "code",
   "execution_count": 19,
   "metadata": {},
   "outputs": [
    {
     "name": "stdout",
     "output_type": "stream",
     "text": [
      "1.6666666666666667\n",
      "1\n",
      "1\n"
     ]
    }
   ],
   "source": [
    "print(5 / 3)\n",
    "print(5 // 3) # this will drop the decimal part and floor it\n",
    "print(5 % 2) # this gives us the remainder"
   ]
  },
  {
   "cell_type": "code",
   "execution_count": 20,
   "metadata": {},
   "outputs": [
    {
     "name": "stdout",
     "output_type": "stream",
     "text": [
      "False\n",
      "True\n",
      "True\n",
      "False\n",
      "True\n",
      "True\n",
      "True\n"
     ]
    }
   ],
   "source": [
    "# comparison operators evaluate to bools\n",
    "# its worth taking extra care: == is equals. = is assignment.\n",
    "print(5 < 3)\n",
    "print(5 > 3)\n",
    "print(5 >= 5) # greater than or equal to\n",
    "print(5 <= 4) # less than or equal to\n",
    "print(5 != 4) # not equals\n",
    "print(5 == 5) # equality!\n",
    "print (\"g\" is \"g\") # is can be used to test equality of OBJECTS, will return different values than == for some things\n",
    "# here is a reference with examples https://www.geeksforgeeks.org/difference-operator-python/"
   ]
  },
  {
   "cell_type": "code",
   "execution_count": 21,
   "metadata": {},
   "outputs": [
    {
     "name": "stdout",
     "output_type": "stream",
     "text": [
      "True\n",
      "False\n",
      "False\n",
      "False\n",
      "True\n",
      "False\n",
      "True\n"
     ]
    }
   ],
   "source": [
    "# boolean values can be combined using or, and, & not\n",
    "# evalutates to true if either one is true\n",
    "print(True or False)\n",
    "print(False or False)\n",
    "# evaluates to true only if both are True\n",
    "print(True and False)\n",
    "print(False and False)\n",
    "print(True and True)\n",
    "# evaluates to the opposite value\n",
    "print(not True)\n",
    "print(not False)"
   ]
  },
  {
   "cell_type": "markdown",
   "metadata": {},
   "source": [
    "### Collections"
   ]
  },
  {
   "cell_type": "markdown",
   "metadata": {},
   "source": [
    "A lot of the time, we will be working with a lot of numbers, and we need some way to arrange those numbers that makes sense. Python has a good range of collections to help us with this, the four most useful being:\n",
    "\n",
    "    - Sets\n",
    "    - Lists\n",
    "    - Tuples\n",
    "    - Dictionaries"
   ]
  },
  {
   "cell_type": "markdown",
   "metadata": {},
   "source": [
    "###### Sets\n",
    "\n",
    "Sets are just like sets in math, they are a grouping of information that is NON ORDERED and DO NOT CONTAIN DUPLICATES"
   ]
  },
  {
   "cell_type": "code",
   "execution_count": 22,
   "metadata": {},
   "outputs": [
    {
     "name": "stdout",
     "output_type": "stream",
     "text": [
      "{42, 'dog', 'fish', '3'}\n",
      "True\n",
      "False\n",
      "{42, 'fish', '3'}\n"
     ]
    }
   ],
   "source": [
    "# There is only one way to make an empty set\n",
    "a_set = set()\n",
    "# We can make one with information already in it if we want\n",
    "a_set = {\"dog\", \"fish\", 42}\n",
    "\n",
    "# to add to a set we use the Set.add() function\n",
    "a_set.add(\"3\")\n",
    "a_set.add(\"dog\")\n",
    "# how would we add the number 3 to the set?\n",
    "print(a_set)\n",
    "# time for a new operator! in\n",
    "# we can check to see if something is in our set using this\n",
    "\n",
    "print(\"dog\" in a_set)\n",
    "\n",
    "#we can remove from the set with Set.remove()\n",
    "a_set.remove(\"dog\")\n",
    "\n",
    "print(\"dog\" in a_set)\n",
    "print(a_set)"
   ]
  },
  {
   "cell_type": "markdown",
   "metadata": {},
   "source": [
    "###### Lists\n",
    "\n",
    "Now we'll talk about lists\n",
    "Lists are great when we have some ordered data we want to save"
   ]
  },
  {
   "cell_type": "code",
   "execution_count": 23,
   "metadata": {},
   "outputs": [
    {
     "name": "stdout",
     "output_type": "stream",
     "text": [
      "3\n",
      "[1, 2, 'kitten', 'dog', 'cat', 'fish', 'dog']\n",
      "[1, 2, 'kitten', 'hello', 'dog', 'cat', 'fish', 'dog', 'mouse']\n"
     ]
    }
   ],
   "source": [
    "# There are two ways to make an empty list (I recommend the first)\n",
    "a_list = list()\n",
    "a_list = []\n",
    "# We can make one with information already in it if we want\n",
    "a_list = [1,2,3,\"dog\",\"cat\",\"fish\",\"dog\"]\n",
    "\n",
    "# We can access a list just with []\n",
    "print(a_list[2])\n",
    "a_list[2] = \"kitten\"\n",
    "print(a_list)\n",
    "\n",
    "# We can add to the end of a list with List.append()\n",
    "a_list.append(\"mouse\")\n",
    "a_list.insert(3, \"hello\") # add hello to the location of index 3\n",
    "\n",
    "print(a_list)"
   ]
  },
  {
   "cell_type": "code",
   "execution_count": 24,
   "metadata": {},
   "outputs": [
    {
     "name": "stdout",
     "output_type": "stream",
     "text": [
      "[1, 2, 'hello', 'dog', 'cat', 'fish', 'dog']\n",
      "[1, 2, 'hello', 'cat', 'fish', 'dog']\n",
      "kitten\n"
     ]
    }
   ],
   "source": [
    "# There are a few ways to remove from a list\n",
    "# List.pop() will remove and return the value at the LOCATION we want\n",
    "# we can save it to a variable for later!\n",
    "popped = a_list.pop(2)\n",
    "# if we dont specify, the last element will be removed\n",
    "a_list.pop()\n",
    "print(a_list)\n",
    "# if we know a value and want to remove THE FIRST TIME it occurs in our data\n",
    "# we can use List.remove()\n",
    "# since we already know what we want to get rid of, List.remove() doesnt return anything\n",
    "a_list.remove(\"dog\")\n",
    "\n",
    "print(a_list)\n",
    "print(popped)"
   ]
  },
  {
   "cell_type": "markdown",
   "metadata": {},
   "source": [
    "###### Tuples\n",
    "\n",
    "Next we'll touch on Tuples\n",
    "We use tuples when we have a small amount of ordered data we want to save"
   ]
  },
  {
   "cell_type": "code",
   "execution_count": 25,
   "metadata": {},
   "outputs": [
    {
     "name": "stdout",
     "output_type": "stream",
     "text": [
      "2\n"
     ]
    }
   ],
   "source": [
    "# Theres only one way to make tuple\n",
    "a_tup = (1,2,3,\"dog\")\n",
    "# just like with a string, we can access a tuple using []\n",
    "print(a_tup[1]) # remember we count from 0 in programming!"
   ]
  },
  {
   "cell_type": "markdown",
   "metadata": {},
   "source": [
    "Once we make a tuple, we can't change it. This is the reason we would pick a tuple over a List.\n",
    "If we want to change it, we have to make a new tuple\n",
    "we can however, assign that tuple to the same variable as the old one"
   ]
  },
  {
   "cell_type": "code",
   "execution_count": 26,
   "metadata": {},
   "outputs": [
    {
     "name": "stdout",
     "output_type": "stream",
     "text": [
      "(1, 2, 3, 'dog')\n",
      "(1, 'cat', 3, 'dog', 'dog')\n",
      "(1, 'cat', 3, 'dog', 'dog')\n"
     ]
    }
   ],
   "source": [
    "a_tup = (1,2,3,\"dog\") # so things don't break if you re-run\n",
    "# a_tup[1] = 1 # python yells at us!\n",
    "b_tup = (a_tup[0], \"cat\", a_tup[2], a_tup[3], \"dog\")\n",
    "print(a_tup)\n",
    "print(b_tup)\n",
    "a_tup = (a_tup[0], \"cat\", a_tup[2], a_tup[3], \"dog\")\n",
    "print(a_tup)"
   ]
  },
  {
   "cell_type": "markdown",
   "metadata": {},
   "source": [
    "###### Dictionaries\n",
    "\n",
    "Dictionaries have information stored in Key:Value pairs, it lets us associate data with other data rather than just an index (or location)"
   ]
  },
  {
   "cell_type": "code",
   "execution_count": 27,
   "metadata": {},
   "outputs": [
    {
     "name": "stdout",
     "output_type": "stream",
     "text": [
      "{'StudentNo': 4444, 'major': 'Computer Science', 'zip': 30313}\n"
     ]
    }
   ],
   "source": [
    "# There are two ways to make an empty dictionary (I recommend the first)\n",
    "a_dict = dict()\n",
    "a_dict = {}\n",
    "# if we want to make one with information already in it\n",
    "a_dict = {\"StudentNo\":5555, \"major\":\"Computer Science\"}\n",
    "\n",
    "# we can add to the dictionary by defining a new key\n",
    "# if the key is already in the dictionary, we overwrite the old data, its gone forever\n",
    "a_dict[\"zip\"] = 30313\n",
    "a_dict[\"StudentNo\"] = 4444\n",
    "print(a_dict)"
   ]
  },
  {
   "cell_type": "code",
   "execution_count": 28,
   "metadata": {},
   "outputs": [
    {
     "name": "stdout",
     "output_type": "stream",
     "text": [
      "Computer Science\n",
      "dict_keys(['StudentNo', 'major', 'zip'])\n",
      "dict_values([4444, 'Computer Science', 30313])\n",
      "{'StudentNo': 4444, 'zip': 30313}\n"
     ]
    }
   ],
   "source": [
    "# If we know a key, we can go ahead and get the value from it\n",
    "# If we want to save it for later we can store in in a variable\n",
    "print(a_dict[\"major\"])\n",
    "# If we don't know a key, we can get a list of keys back!\n",
    "print(a_dict.keys())\n",
    "print(a_dict.values())\n",
    "\n",
    "# if we want to remove something from the dictionary we use Dict.pop()\n",
    "# we need to tell it what key we want removed\n",
    "# it gives us the databack to save\n",
    "popped = a_dict.pop(\"major\")\n",
    "print(a_dict)"
   ]
  },
  {
   "cell_type": "markdown",
   "metadata": {},
   "source": [
    "Tuples, Lists, Sets, and Dictionaries can hold any and all kinds of data we want. So we can put a List inside a List, a Dictionary inside a Dictionary, or a List inside a Set. Though its best to avoid doing this unless you need to."
   ]
  },
  {
   "cell_type": "markdown",
   "metadata": {},
   "source": [
    "### Aside: Code Blocks and Control Flow\n",
    "Python seperates code into (possibly nested) blocks through indentation / whitespace. These blocks get executed or skipped as a single unit.\n",
    "\n",
    "Georgia Tech's CS Classes prefer (and I recommend) an intentation level of 4 spaces as the standard indentation level.\n",
    "\n",
    "This is a complex topic; We'll explore and visualize code blocks and their execution as we discuss conditionals and loops in the following section."
   ]
  },
  {
   "cell_type": "markdown",
   "metadata": {},
   "source": [
    "### Conditionals"
   ]
  },
  {
   "cell_type": "markdown",
   "metadata": {},
   "source": [
    "Conditional statements are used to execute a certain command only if certain requirements are met\n",
    "the basic conditionals are if, elif, and else.\n",
    "\n",
    "ifs are interpreted from start to end, so it will first interpret the if statement, then move to elif in the order they were written, then finally the else (note: elif and else ARE NOT required)"
   ]
  },
  {
   "cell_type": "code",
   "execution_count": 29,
   "metadata": {
    "scrolled": true
   },
   "outputs": [
    {
     "name": "stdout",
     "output_type": "stream",
     "text": [
      "(1, 'cat', 3, 'dog', 'dog')\n"
     ]
    }
   ],
   "source": [
    "print(a_tup)"
   ]
  },
  {
   "cell_type": "code",
   "execution_count": 30,
   "metadata": {},
   "outputs": [
    {
     "name": "stdout",
     "output_type": "stream",
     "text": [
      "bark\n"
     ]
    }
   ],
   "source": [
    "if \"dog\" in a_tup:\n",
    "    print(\"bark\")\n",
    "elif \"cat\" in a_tup:\n",
    "    print(\"meow\")\n",
    "else:\n",
    "    print(\"I am not a dog or cat\")"
   ]
  },
  {
   "cell_type": "markdown",
   "metadata": {},
   "source": [
    "We end the line containing the conditional with a :\n",
    "The : tells python that the next line should be a nested block of code; our print() statement in this case.\n",
    "\n",
    "The elif conditional is only evaluated if the original if statement fails.\n",
    "the else conditional is only evaluated if both the original if statement and all elifs between fail.\n",
    "\n",
    "Because the blocks of code associated with the elif conditional and the else conditional, we skip them as well.\n",
    "\n"
   ]
  },
  {
   "cell_type": "code",
   "execution_count": 31,
   "metadata": {},
   "outputs": [
    {
     "name": "stdout",
     "output_type": "stream",
     "text": [
      "bark\n",
      "I am not a dog or mouse\n"
     ]
    }
   ],
   "source": [
    "if \"dog\" in a_tup:\n",
    "    # since there is an if directly after this, this if statement stands alone\n",
    "    print(\"bark\")\n",
    "if \"mouse\" in a_tup:\n",
    "    print(\"squeak\")\n",
    "else:\n",
    "    # This else statement belongs to the If Directly above it.  The first if is independent\n",
    "    print(\"I am not a dog or mouse\")\n",
    "# therefore both the first if, and the else statement are executed."
   ]
  },
  {
   "cell_type": "markdown",
   "metadata": {},
   "source": [
    "### For loops:\n",
    "Probably the most powerful tool in a programming language is the ability to interate over every item with one statement this is done using for loops Python has a very simple method for writing for loops"
   ]
  },
  {
   "cell_type": "code",
   "execution_count": 32,
   "metadata": {},
   "outputs": [
    {
     "name": "stdout",
     "output_type": "stream",
     "text": [
      "1\n",
      "2\n",
      "hello\n",
      "cat\n",
      "fish\n",
      "dog\n"
     ]
    }
   ],
   "source": [
    "# x is representing an item in the list\n",
    "for x in a_list:\n",
    "     print(x)"
   ]
  },
  {
   "cell_type": "code",
   "execution_count": 41,
   "metadata": {},
   "outputs": [],
   "source": [
    "#Two functions useful for going through a list are len() and range() len() will return an integer that is the length of a collection\n",
    "\n",
    "#range() will generate a list of numbers we can use, usually in a loop we can call range with 1, 2, or 3 arguments\n",
    "\n",
    "#if we pass one input to range(x), it generates a list from 0 to x\n",
    "#if we pass two inputs to range(x,y) it generates a list from x to y\n",
    "#if we pass three inputs to range(x,y,z) it generates a list from x to y using a step size of z. z can be negative"
   ]
  },
  {
   "cell_type": "code",
   "execution_count": 35,
   "metadata": {},
   "outputs": [
    {
     "name": "stdout",
     "output_type": "stream",
     "text": [
      "I am still small.  I am only 0\n",
      "I am still small.  I am only 1\n",
      "I am still small.  I am only 2\n",
      "I must be pretty big I'm 3\n",
      "I must be pretty big I'm 4\n",
      "I must be pretty big I'm 5\n"
     ]
    }
   ],
   "source": [
    "# Here is a more complex for loop, utilizing if statements also\n",
    "# this for look will first look for the length of list 1 (5 items), then will make x each number\n",
    "# in that range (so will be 0,1,2,3,4) this is how you create that \"classic\" java or c++ loop \n",
    "for x in range(len(a_list)):\n",
    "    if x > 2:\n",
    "        print(\"I must be pretty big I'm \" + str(x))\n",
    "    else:\n",
    "        print(\"I am still small.  I am only \" + str(x))"
   ]
  },
  {
   "cell_type": "markdown",
   "metadata": {},
   "source": [
    "### While Loops:\n",
    "On the other hand while loops will allow you to keep running a block of code until a condition is met. While a for loop can do the same thing as a while loop, they have different strengths for different use cases. A while loop to do the same thing as the for loop above is more complex"
   ]
  },
  {
   "cell_type": "code",
   "execution_count": 36,
   "metadata": {},
   "outputs": [
    {
     "name": "stdout",
     "output_type": "stream",
     "text": [
      "1\n",
      "2\n",
      "hello\n",
      "cat\n",
      "fish\n",
      "dog\n"
     ]
    }
   ],
   "source": [
    "# this accomplishes teh same thing as the above for loop\n",
    "# would generally use the for loop instead of while loop in this case\n",
    "i = 0\n",
    "while i < len(a_list):\n",
    "    print(a_list[i])\n",
    "    i += 1"
   ]
  },
  {
   "cell_type": "markdown",
   "metadata": {},
   "source": [
    "In the above example, theres not really a reason to use a while loop instead of a for loop. But a while loop's condition can be anything, so it can be really powerful."
   ]
  },
  {
   "cell_type": "code",
   "execution_count": 37,
   "metadata": {},
   "outputs": [
    {
     "name": "stdout",
     "output_type": "stream",
     "text": [
      "1\n",
      "2\n"
     ]
    }
   ],
   "source": [
    "# in this instance, the condition to loop is whether the item at the index in the list is not a string\n",
    "# as soon as the item at the current index is a string we exit loop\n",
    "i = 0\n",
    "while type(a_list[i]) is not str:\n",
    "    print(a_list[i])\n",
    "    i += 1"
   ]
  },
  {
   "cell_type": "markdown",
   "metadata": {},
   "source": [
    "because anything that evaluates to a boolean can be used as a condition, we can use True and have a while loop run forever.\n",
    "\n",
    "We're not running a web server though so we dont want that.\n",
    "\n",
    "If we need to get out early, we can use the word break, which will always get you out of the most recent loop.\n"
   ]
  },
  {
   "cell_type": "code",
   "execution_count": 38,
   "metadata": {},
   "outputs": [
    {
     "name": "stdout",
     "output_type": "stream",
     "text": [
      "Hello! 0\n",
      "Hello! 1\n",
      "Hello! 2\n",
      "Hello! 3\n",
      "Hello! 4\n",
      "Hello! 5\n"
     ]
    }
   ],
   "source": [
    "i = 0\n",
    "while True:\n",
    "        print(\"Hello! \" + str(i))\n",
    "        if i >= 5:\n",
    "            break\n",
    "        i += 1"
   ]
  },
  {
   "cell_type": "markdown",
   "metadata": {},
   "source": [
    "### Functions:\n",
    "\n",
    "Now that we have learned the basics, we are ready for functions, We've already been using them. When we want to use a function we use the f_name() format. So print(), range(), len(), type() are all functions python already gives to us!\n",
    "\n",
    "functions are sections of code that are CALLABLE\n",
    "\n",
    "that means throughout our code we can \"summon\" that code we created once to run\n",
    "\n",
    "a function WILL NOT run unless called\n",
    "\n",
    "A Parameter is a variable we can pass into a function in order to change the function's behavior"
   ]
  },
  {
   "cell_type": "code",
   "execution_count": 39,
   "metadata": {},
   "outputs": [],
   "source": [
    "def my_func(x, y): # we use def to define a function, then all parameters are inside the parentesis\n",
    "    # this function multiplies 2 numbers together and returns that number\n",
    "    z = x * y\n",
    "    if z > 0:\n",
    "        print(z)\n",
    "    return z # functions with a return statement put the information after the return statement into \n",
    "# the variable defined when we call our function. return statements are optional.\n"
   ]
  },
  {
   "cell_type": "code",
   "execution_count": 40,
   "metadata": {},
   "outputs": [
    {
     "name": "stdout",
     "output_type": "stream",
     "text": [
      "6\n",
      "6\n",
      "8\n",
      "8\n"
     ]
    }
   ],
   "source": [
    "# Now we will test our function\n",
    "print(my_func(2, 3))\n",
    "return_val = my_func(2, 4)\n",
    "print(return_val)\n",
    "# notice how these variables now contain what we specified by the return statement"
   ]
  },
  {
   "cell_type": "markdown",
   "metadata": {},
   "source": [
    "Today we have learned everything from the basic Python types, all the way up to crafting simple functions. This is as far as this lesson will go. If anyone has any questions, I would be happy to clarify now!"
   ]
  }
 ],
 "metadata": {
  "kernelspec": {
   "display_name": "Python 3",
   "language": "python",
   "name": "python3"
  },
  "language_info": {
   "codemirror_mode": {
    "name": "ipython",
    "version": 3
   },
   "file_extension": ".py",
   "mimetype": "text/x-python",
   "name": "python",
   "nbconvert_exporter": "python",
   "pygments_lexer": "ipython3",
   "version": "3.7.2"
  }
 },
 "nbformat": 4,
 "nbformat_minor": 2
}
